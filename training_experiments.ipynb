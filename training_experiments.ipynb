{
 "cells": [
  {
   "cell_type": "code",
   "execution_count": 5,
   "metadata": {},
   "outputs": [],
   "source": [
    "import importlib\n",
    "import tiny_video_dit\n",
    "import dit_training\n",
    "import video_dataset\n",
    "import torch\n",
    "from torch.utils.data import DataLoader, random_split\n",
    "\n",
    "importlib.reload(tiny_video_dit)\n",
    "importlib.reload(dit_training)\n",
    "importlib.reload(video_dataset)\n",
    "\n",
    "from tiny_video_dit import VideoDiT\n",
    "from dit_training import train_video_dit\n",
    "from video_dataset import VideoDataset"
   ]
  },
  {
   "cell_type": "code",
   "execution_count": 6,
   "metadata": {},
   "outputs": [],
   "source": [
    "device = torch.device(\"cpu\")"
   ]
  },
  {
   "cell_type": "code",
   "execution_count": 7,
   "metadata": {},
   "outputs": [],
   "source": [
    "dataset = VideoDataset(\"downsampled_psft_videos\")\n",
    "train_size = 800\n",
    "val_size = 200\n",
    "train_dataset, val_dataset = random_split(dataset, [train_size, val_size])\n",
    "trainloader = DataLoader(train_dataset, batch_size=4, shuffle=True, num_workers=4)\n",
    "valloader = DataLoader(val_dataset, batch_size=4, shuffle=False, num_workers=4)\n",
    "model = VideoDiT().to(device)"
   ]
  },
  {
   "cell_type": "code",
   "execution_count": 8,
   "metadata": {},
   "outputs": [
    {
     "name": "stderr",
     "output_type": "stream",
     "text": [
      "Epoch 1/10:   0%|          | 0/200 [00:00<?, ?batch/s]"
     ]
    },
    {
     "name": "stdout",
     "output_type": "stream",
     "text": [
      "Shape of pred_noise: torch.Size([4, 16, 64, 64, 3])\n",
      "Shape of noise: torch.Size([4, 16, 64, 64, 3])\n"
     ]
    },
    {
     "name": "stderr",
     "output_type": "stream",
     "text": [
      "Epoch 1/10:   0%|          | 1/200 [00:02<09:00,  2.72s/batch, loss=1.31]"
     ]
    },
    {
     "name": "stdout",
     "output_type": "stream",
     "text": [
      "Shape of pred_noise: torch.Size([4, 16, 64, 64, 3])\n",
      "Shape of noise: torch.Size([4, 16, 64, 64, 3])\n"
     ]
    },
    {
     "name": "stderr",
     "output_type": "stream",
     "text": [
      "Epoch 1/10:   1%|          | 2/200 [00:04<06:16,  1.90s/batch, loss=1.19]"
     ]
    },
    {
     "name": "stdout",
     "output_type": "stream",
     "text": [
      "Shape of pred_noise: torch.Size([4, 16, 64, 64, 3])\n",
      "Shape of noise: torch.Size([4, 16, 64, 64, 3])\n"
     ]
    },
    {
     "name": "stderr",
     "output_type": "stream",
     "text": [
      "Epoch 1/10:   2%|▏         | 3/200 [00:05<05:16,  1.60s/batch, loss=1.13]"
     ]
    },
    {
     "name": "stdout",
     "output_type": "stream",
     "text": [
      "Shape of pred_noise: torch.Size([4, 16, 64, 64, 3])\n",
      "Shape of noise: torch.Size([4, 16, 64, 64, 3])\n"
     ]
    }
   ],
   "source": [
    "num_epochs = 10\n",
    "lr = 1e-4\n",
    "\n",
    "train_video_dit(model, trainloader, valloader, num_epochs=num_epochs, lr=lr, device=device)"
   ]
  },
  {
   "cell_type": "code",
   "execution_count": null,
   "metadata": {},
   "outputs": [],
   "source": []
  }
 ],
 "metadata": {
  "kernelspec": {
   "display_name": "Python 3",
   "language": "python",
   "name": "python3"
  },
  "language_info": {
   "codemirror_mode": {
    "name": "ipython",
    "version": 3
   },
   "file_extension": ".py",
   "mimetype": "text/x-python",
   "name": "python",
   "nbconvert_exporter": "python",
   "pygments_lexer": "ipython3",
   "version": "3.9.6"
  }
 },
 "nbformat": 4,
 "nbformat_minor": 2
}
